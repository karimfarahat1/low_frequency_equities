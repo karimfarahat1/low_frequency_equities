{
 "cells": [
  {
   "cell_type": "markdown",
   "id": "0eb0c2ee",
   "metadata": {},
   "source": [
    "**Demo Backtest: Risk Model Comparison** \n",
    "\n",
    "This notebook presents a simple backtest comparing different covariance estimation methods under a risk aversion portfolio optimiser."
   ]
  },
  {
   "cell_type": "code",
   "execution_count": 1,
   "id": "b59a6ef4",
   "metadata": {},
   "outputs": [],
   "source": [
    "import pandas as pd\n",
    "import numpy as np\n",
    "import sys\n",
    "sys.path.append('../')\n",
    "import warnings\n",
    "warnings.filterwarnings('ignore')\n",
    "from sklearn.pipeline import Pipeline\n",
    "from sklearn.preprocessing import StandardScaler\n",
    "from sklearn.linear_model import LinearRegression\n",
    "from pypfopt.hierarchical_portfolio import HRPOpt\n",
    "from src.strategy import strategy\n",
    "from src.backtest import backtest\n",
    "from src.volatility_models import arch_wrapper\n",
    "from src.risk_models import pca_cov"
   ]
  },
  {
   "cell_type": "markdown",
   "id": "ceeac245",
   "metadata": {},
   "source": [
    "The following cell calls a private function to load the proprietary data. It consists of closing prices of a universe of c. 1000 US equities and 25 simple features derived from well-known sources (e.g. accounting data, momentum) observed over 150 months ending in December 2021. "
   ]
  },
  {
   "cell_type": "code",
   "execution_count": 2,
   "id": "4346124c",
   "metadata": {},
   "outputs": [],
   "source": [
    "from data.load_data import load_data\n",
    "features, returns = load_data()"
   ]
  },
  {
   "cell_type": "markdown",
   "id": "9e5e5c50",
   "metadata": {},
   "source": [
    "Creating the strategies."
   ]
  },
  {
   "cell_type": "code",
   "execution_count": 3,
   "id": "69e74a35",
   "metadata": {},
   "outputs": [],
   "source": [
    "# shared optimiser and return model\n",
    "hrp_optim = lambda expected_returns, expected_covariance : HRPOpt(cov_matrix = pd.DataFrame(expected_covariance)).optimize()\n",
    "rtn_model = Pipeline([('scaler', StandardScaler()), ('model', LinearRegression())])"
   ]
  },
  {
   "cell_type": "code",
   "execution_count": 4,
   "id": "2927735b",
   "metadata": {},
   "outputs": [],
   "source": [
    "#factor model: sample covariance of factor returns + ARCH(1) idiosyncratic volatility\n",
    "vol_params = {'mean' : 'Zero', 'lags' : 1, 'vol' : 'ARCH'}\n",
    "vol_model = arch_wrapper\n",
    "factor_strat = strategy(return_model = rtn_model, vol_model = vol_model, optim_func = hrp_optim, vol_model_params = vol_params)"
   ]
  },
  {
   "cell_type": "code",
   "execution_count": 5,
   "id": "b8413840",
   "metadata": {},
   "outputs": [],
   "source": [
    "#Sample covariance - 12 month rolling window\n",
    "sample_cov = lambda returns : (returns.unstack().dropna(axis = 1)).cov()\n",
    "window_size = 12\n",
    "sample_cov_strat = strategy(return_model = rtn_model, optim_func = hrp_optim, use_factor_risk = False, \n",
    "                            cov_calc = sample_cov, cov_lookback = window_size)"
   ]
  },
  {
   "cell_type": "code",
   "execution_count": 6,
   "id": "25b74c2b",
   "metadata": {},
   "outputs": [],
   "source": [
    "#Covariance estimated via PCA: components chosen to retain 90% of variance, 12 month window\n",
    "target_var = 0.9\n",
    "pca_calc = lambda x: pca_cov(x, target_var)\n",
    "pca_strat = strategy(return_model = rtn_model, optim_func = hrp_optim, use_factor_risk = False, \n",
    "                     cov_calc = pca_calc, cov_lookback = window_size)"
   ]
  },
  {
   "cell_type": "code",
   "execution_count": 7,
   "id": "24f86b93",
   "metadata": {},
   "outputs": [],
   "source": [
    "#Volatility forecast scaled PCA covariance: ARCH(1), 90% of variance, 12 month window\n",
    "scaled_pca_strat = strategy(return_model = rtn_model, optim_func = hrp_optim, use_factor_risk = False, \n",
    "                            cov_calc = lambda x: pca_cov(x, n_comps = 0.9), cov_lookback = 12, \n",
    "                            vol_model = vol_model, vol_model_params = vol_params)"
   ]
  },
  {
   "cell_type": "markdown",
   "id": "9d22c15a",
   "metadata": {},
   "source": [
    "Running the backtest."
   ]
  },
  {
   "cell_type": "code",
   "execution_count": 8,
   "id": "ae4c7228",
   "metadata": {},
   "outputs": [
    {
     "data": {
      "image/png": "[encoded data removed]",
      "text/plain": [
       "<Figure size 640x480 with 1 Axes>"
      ]
     },
     "metadata": {},
     "output_type": "display_data"
    }
   ],
   "source": [
    "strategy_grid = {'Factor Model': factor_strat, 'Sample Cov' : sample_cov_strat, 'PCA Cov' : pca_strat, \n",
    "                'Scaled PCA Cov' : scaled_pca_strat}\n",
    "\n",
    "test = backtest(strategy_grid)\n",
    "test.compute_returns(features, returns, burn_in = 12)\n",
    "test.compute_stat([test.sharpe_ratio, test.sortino_ratio, test.max_drawdown], ['Sharpe Ratio', 'Sortino Ratio', 'Max Drawdown'])\n",
    "test.plot_stat('Sharpe Ratio')"
   ]
  }
 ],
 "metadata": {
  "kernelspec": {
   "display_name": "Python 3 (ipykernel)",
   "language": "python",
   "name": "python3"
  },
  "language_info": {
   "codemirror_mode": {
    "name": "ipython",
    "version": 3
   },
   "file_extension": ".py",
   "mimetype": "text/x-python",
   "name": "python",
   "nbconvert_exporter": "python",
   "pygments_lexer": "ipython3",
   "version": "3.9.12"
  }
 },
 "nbformat": 4,
 "nbformat_minor": 5
}
